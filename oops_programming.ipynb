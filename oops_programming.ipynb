{
  "cells": [
    {
      "cell_type": "markdown",
      "metadata": {
        "id": "view-in-github",
        "colab_type": "text"
      },
      "source": [
        "<a href=\"https://colab.research.google.com/github/Narmadakumbhkar/oops_programming/blob/main/oops_programming.ipynb\" target=\"_parent\"><img src=\"https://colab.research.google.com/assets/colab-badge.svg\" alt=\"Open In Colab\"/></a>"
      ]
    },
    {
      "cell_type": "markdown",
      "metadata": {
        "id": "jQUICD1r2O9U"
      },
      "source": [
        "## oops(object oriented programming)\n",
        "\n",
        "---\n",
        "\n"
      ]
    },
    {
      "cell_type": "code",
      "execution_count": null,
      "metadata": {
        "colab": {
          "base_uri": "https://localhost:8080/"
        },
        "id": "s90U_vj71Hbf",
        "outputId": "8d7c5fdc-03ec-46e3-afaf-06e1483987c9"
      },
      "outputs": [
        {
          "name": "stdout",
          "output_type": "stream",
          "text": [
            "10\n"
          ]
        }
      ],
      "source": [
        "class Democlass:\n",
        "  a=10\n",
        "demo_obj=Democlass()\n",
        "print(demo_obj.a)"
      ]
    },
    {
      "cell_type": "code",
      "execution_count": null,
      "metadata": {
        "colab": {
          "base_uri": "https://localhost:8080/"
        },
        "id": "bCQNIY7T1mH-",
        "outputId": "b311e3ff-191e-4dc9-da96-866574b94d46"
      },
      "outputs": [
        {
          "name": "stdout",
          "output_type": "stream",
          "text": [
            "10\n",
            "10\n"
          ]
        }
      ],
      "source": [
        "class Democlass:\n",
        "  a=10                       # a is a variable\n",
        "obj=Democlass()\n",
        "obj1=Democlass()\n",
        "print(obj.a)\n",
        "print(obj1.a)"
      ]
    },
    {
      "cell_type": "code",
      "execution_count": null,
      "metadata": {
        "colab": {
          "base_uri": "https://localhost:8080/"
        },
        "id": "fP5M70hs19XT",
        "outputId": "3f823541-9cff-468f-aef8-87fa828f467f"
      },
      "outputs": [
        {
          "name": "stdout",
          "output_type": "stream",
          "text": [
            "50\n"
          ]
        }
      ],
      "source": [
        "class Democlass:\n",
        "  def sumvalue(self ):\n",
        "    print(20+30)\n",
        "obj=Democlass()\n",
        "obj.sumvalue();"
      ]
    },
    {
      "cell_type": "code",
      "execution_count": null,
      "metadata": {
        "colab": {
          "base_uri": "https://localhost:8080/"
        },
        "id": "js_Xyf182sbV",
        "outputId": "7a6ac002-b92f-48a4-94fe-06e5fc08e7ad"
      },
      "outputs": [
        {
          "name": "stdout",
          "output_type": "stream",
          "text": [
            "30\n"
          ]
        }
      ],
      "source": [
        "class Democlass:\n",
        "  def sumvalue(self):\n",
        "    print(10+20)\n",
        "obj= Democlass()\n",
        "obj.sumvalue()\n"
      ]
    },
    {
      "cell_type": "markdown",
      "metadata": {
        "id": "R_iagVoZ4J7S"
      },
      "source": [
        "## Methord & Constructor\n",
        "### (1) Methors==> esi obj ke sath print krate h\n",
        "### (2) Constructor==> yha bhi ek trah ka methord he hota h but esi call krane ke jarurt nhi hoti h"
      ]
    },
    {
      "cell_type": "markdown",
      "metadata": {
        "id": "J-NUsWen4zwd"
      },
      "source": [
        "## Methord:-"
      ]
    },
    {
      "cell_type": "code",
      "execution_count": null,
      "metadata": {
        "colab": {
          "base_uri": "https://localhost:8080/"
        },
        "id": "_B-AZX8i3P-j",
        "outputId": "55513b75-578f-4621-cf9b-81945a2edd41"
      },
      "outputs": [
        {
          "name": "stdout",
          "output_type": "stream",
          "text": [
            "10\n"
          ]
        }
      ],
      "source": [
        "class Democlass:\n",
        "  a=10\n",
        "  def showvalue(self):      # ( self is a argument)  \n",
        "   print(self.a)\n",
        "obj=Democlass()\n",
        "obj.showvalue()"
      ]
    },
    {
      "cell_type": "code",
      "execution_count": null,
      "metadata": {
        "colab": {
          "base_uri": "https://localhost:8080/"
        },
        "id": "gJ8xwDVl5kRi",
        "outputId": "231c9f4e-f9b5-4488-b7c5-99cbbaf74382"
      },
      "outputs": [
        {
          "name": "stdout",
          "output_type": "stream",
          "text": [
            "20\n"
          ]
        }
      ],
      "source": [
        "class student:\n",
        "  Z=20\n",
        "  def showvalue(self):\n",
        "    print(self.Z)\n",
        "rejult=student()\n",
        "rejult.showvalue()"
      ]
    },
    {
      "cell_type": "code",
      "execution_count": null,
      "metadata": {
        "colab": {
          "base_uri": "https://localhost:8080/"
        },
        "id": "MrukiBQj6Mzy",
        "outputId": "774255b8-5d1b-41c4-ca98-b541d4355e10"
      },
      "outputs": [
        {
          "name": "stdout",
          "output_type": "stream",
          "text": [
            "100\n"
          ]
        }
      ],
      "source": [
        "class student:\n",
        "     a=10\n",
        "     def showdata(self):\n",
        "       self.c=self.a*self.a\n",
        "       print(self.c)\n",
        "result=student()\n",
        "result.showdata()"
      ]
    },
    {
      "cell_type": "code",
      "execution_count": null,
      "metadata": {
        "colab": {
          "base_uri": "https://localhost:8080/"
        },
        "id": "q7wD-XDo6v1J",
        "outputId": "f40e9acc-e60b-4fb5-fe84-ab699eca22fc"
      },
      "outputs": [
        {
          "name": "stdout",
          "output_type": "stream",
          "text": [
            "1.0\n"
          ]
        }
      ],
      "source": [
        "class nikku:\n",
        "  a=20\n",
        "  def kumu(self):\n",
        "    self.p=self.a/self.a\n",
        "    print(self.p)\n",
        "myobj=nikku()\n",
        "myobj.kumu()"
      ]
    },
    {
      "cell_type": "code",
      "execution_count": null,
      "metadata": {
        "colab": {
          "base_uri": "https://localhost:8080/"
        },
        "id": "q0L_MMs27834",
        "outputId": "1e2181d8-90b2-498d-e28a-078a8754606d"
      },
      "outputs": [
        {
          "name": "stdout",
          "output_type": "stream",
          "text": [
            "2500\n"
          ]
        }
      ],
      "source": [
        "class pappu:\n",
        "  p=50\n",
        "  def golu(selu):\n",
        "    selu.q=selu.p*selu.p\n",
        "    print(selu.q)\n",
        "tinku=pappu()\n",
        "tinku.golu()"
      ]
    },
    {
      "cell_type": "code",
      "execution_count": null,
      "metadata": {
        "colab": {
          "base_uri": "https://localhost:8080/"
        },
        "id": "XKWRBxWm8qco",
        "outputId": "2c334ee9-0594-40e0-cc4a-49cc3203b801"
      },
      "outputs": [
        {
          "name": "stdout",
          "output_type": "stream",
          "text": [
            "100\n",
            "welcome to hydrabad\n"
          ]
        }
      ],
      "source": [
        "class Democlass:\n",
        "  a=10\n",
        "  def showvalue(self):\n",
        "    self.c=self.a*self.a\n",
        "    print(self.c)\n",
        "  def showvalue1(self):\n",
        "    print(\"welcome to hydrabad\")\n",
        "obj=Democlass()\n",
        "obj.showvalue()\n",
        "obj.showvalue1()"
      ]
    },
    {
      "cell_type": "code",
      "execution_count": null,
      "metadata": {
        "colab": {
          "base_uri": "https://localhost:8080/"
        },
        "id": "5j_FRzUf9pZs",
        "outputId": "2f3d5e0e-c139-4bab-c6e1-bd384bc23d26"
      },
      "outputs": [
        {
          "name": "stdout",
          "output_type": "stream",
          "text": [
            "900\n",
            "70\n"
          ]
        }
      ],
      "source": [
        "class student:\n",
        "  c=30\n",
        "  def NIKKU(KUMBHKAR):\n",
        "    KUMBHKAR.X=KUMBHKAR.c*KUMBHKAR.c\n",
        "    print(KUMBHKAR.X)\n",
        "  def YASSHU(SEN ,A,B):\n",
        "    print(A+B)\n",
        "obj=student()\n",
        "obj.NIKKU()\n",
        "obj.YASSHU(30,40)\n",
        "    "
      ]
    },
    {
      "cell_type": "markdown",
      "metadata": {
        "id": "VbgqhZ08Abmx"
      },
      "source": [
        "## constructer:-"
      ]
    },
    {
      "cell_type": "code",
      "execution_count": null,
      "metadata": {
        "colab": {
          "base_uri": "https://localhost:8080/"
        },
        "id": "G87UmN_D-9I4",
        "outputId": "5a5797ee-ea69-4077-9401-8716c1085869"
      },
      "outputs": [
        {
          "name": "stdout",
          "output_type": "stream",
          "text": [
            "welcome to hydrabad\n",
            "100\n",
            "75\n"
          ]
        }
      ],
      "source": [
        "class Democlass:\n",
        "  a=10\n",
        "  def __init__(self):\n",
        "    print(\"welcome to hydrabad\")\n",
        "  def showvalue(self):\n",
        "    self.c=self.a*self.a\n",
        "    print(self.c)\n",
        "  def showvalue1(self,x,y):\n",
        "    print(x-y)\n",
        "obj=Democlass()\n",
        "obj.showvalue()\n",
        "obj.showvalue1(100,25)\n",
        "\n"
      ]
    },
    {
      "cell_type": "code",
      "execution_count": null,
      "metadata": {
        "colab": {
          "base_uri": "https://localhost:8080/"
        },
        "id": "RoIAvj9OB4rw",
        "outputId": "f418756c-afc8-429f-e096-106c4e3d4a39"
      },
      "outputs": [
        {
          "name": "stdout",
          "output_type": "stream",
          "text": [
            "welcome to mumbai\n",
            "25\n",
            "50.0\n",
            "50\n",
            "56\n",
            "40000\n",
            "400\n"
          ]
        }
      ],
      "source": [
        "class employee:\n",
        "  x=200\n",
        "  def __init__(self):\n",
        "    self.a=self.x-self.x\n",
        "    print(self.a)\n",
        "  def __init__(self):\n",
        "    print(\"welcome to mumbai\" )\n",
        "  def data(self,p,q):\n",
        "    print(p**q)\n",
        "  def data1(self,r,s):\n",
        "    print(r/s)\n",
        "  def data3(self,g,h):\n",
        "    print(g//h)\n",
        "  def data4(self,u,v):\n",
        "    print(u*v)\n",
        "  def data5(self):\n",
        "    self.k=self.x*self.x\n",
        "    print(self.k)\n",
        "  def data6(NIKKU):\n",
        "    NIKKU.L=NIKKU.x+NIKKU.x\n",
        "    print(NIKKU.L)\n",
        "obj=employee()\n",
        "obj.data(5,2)\n",
        "obj.data1(100,2)\n",
        "obj.data3(100,2)\n",
        "obj.data4(7,8)\n",
        "obj.data5()\n",
        "obj.data6()\n",
        "\n"
      ]
    },
    {
      "cell_type": "markdown",
      "metadata": {
        "id": "l6eOVnpTGGsW"
      },
      "source": [
        "## Inheritance:- Types:\n",
        "###(1) single inheritance\n",
        "###(2) multilable inheritance\n",
        "###(3) multiple inheritance"
      ]
    },
    {
      "cell_type": "markdown",
      "metadata": {
        "id": "0a9Zxs3SGtiN"
      },
      "source": [
        "## (1) Single Inheritance:-"
      ]
    },
    {
      "cell_type": "code",
      "execution_count": null,
      "metadata": {
        "colab": {
          "base_uri": "https://localhost:8080/"
        },
        "id": "79SAll7MFQAL",
        "outputId": "6b38722d-061d-45a8-fd86-f7df5fa06946"
      },
      "outputs": [
        {
          "name": "stdout",
          "output_type": "stream",
          "text": [
            "welcome NIKKU in Hydrabad A\n",
            "how are you feeling here B\n"
          ]
        }
      ],
      "source": [
        "class A:\n",
        "  def displayA (self):\n",
        "    print(\"welcome NIKKU in Hydrabad A\")\n",
        "class B(A):\n",
        "  def displayB (self):\n",
        "    print(\"how are you feeling here B\")\n",
        "obj=B()\n",
        "obj.displayA()\n",
        "obj.displayB()\n",
        "\n"
      ]
    },
    {
      "cell_type": "code",
      "execution_count": null,
      "metadata": {
        "colab": {
          "base_uri": "https://localhost:8080/"
        },
        "id": "qCB-UxYBJ78U",
        "outputId": "2c59eb4b-50ef-4148-e28d-a7b8e0112df8"
      },
      "outputs": [
        {
          "name": "stdout",
          "output_type": "stream",
          "text": [
            "Hello \n",
            "NIKKU \n"
          ]
        }
      ],
      "source": [
        "class x:\n",
        "  def namex(self):\n",
        "    print(\"Hello \")\n",
        "class y(x):\n",
        "  def namey(self):\n",
        "    print(\"NIKKU \")\n",
        "obj=y()\n",
        "obj.namex()\n",
        "obj.namey()"
      ]
    },
    {
      "cell_type": "markdown",
      "metadata": {
        "id": "gvZ1vYPPKvN9"
      },
      "source": [
        "##(2) Multilable Inheritance:-"
      ]
    },
    {
      "cell_type": "code",
      "execution_count": null,
      "metadata": {
        "colab": {
          "base_uri": "https://localhost:8080/"
        },
        "id": "eYThlbmSKmv_",
        "outputId": "fe8c396c-35fd-42b4-b647-2a253866895f"
      },
      "outputs": [
        {
          "name": "stdout",
          "output_type": "stream",
          "text": [
            "Hello yasshu\n",
            "what are you doing?\n",
            "Are you felling sleeping?\n",
            "oooo i think you are reading something ok you can continune\n"
          ]
        }
      ],
      "source": [
        "class A:\n",
        "  def displayA(self):\n",
        "    print(\"Hello yasshu\")\n",
        "class B(A):\n",
        "  def displayB(self):\n",
        "    print(\"what are you doing?\")\n",
        "class C(B):\n",
        "  def displayC(self):\n",
        "    print(\"Are you felling sleeping?\")\n",
        "class D(C):\n",
        "  def displayD(self):\n",
        "    print(\"oooo i think you are reading something ok you can continune\")\n",
        "obj=D()\n",
        "obj.displayA()\n",
        "obj.displayB()\n",
        "obj.displayC()\n",
        "obj.displayD()"
      ]
    },
    {
      "cell_type": "markdown",
      "metadata": {
        "id": "cQRtx0g2MWqT"
      },
      "source": [
        "## (3) Multiple Inheritance:-"
      ]
    },
    {
      "cell_type": "code",
      "execution_count": null,
      "metadata": {
        "colab": {
          "base_uri": "https://localhost:8080/"
        },
        "id": "hnvR0hYsMT1K",
        "outputId": "b007ec30-a88e-4415-9793-db77bc1b00e5"
      },
      "outputs": [
        {
          "name": "stdout",
          "output_type": "stream",
          "text": [
            "today i was got up at 7:30am and that is not a good habite , i should change this habite\n",
            "yesterday i did not study properly\n",
            "i have a lot of requre for improve myself\n"
          ]
        }
      ],
      "source": [
        "class A:\n",
        "  def displayA(self):\n",
        "    print(\"today i was got up at 7:30am and that is not a good habite , i should change this habite\")\n",
        "class B:\n",
        "  def displayB(self):\n",
        "    print(\"yesterday i did not study properly\")\n",
        "class C(A,B):\n",
        "  def displayC(self):\n",
        "    print(\"i have a lot of requre for improve myself\")\n",
        "obj=C()\n",
        "obj.displayA()\n",
        "obj.displayB()\n",
        "obj.displayC()\n",
        "  "
      ]
    },
    {
      "cell_type": "markdown",
      "metadata": {
        "id": "YhAeZIiDONm3"
      },
      "source": [
        "## Encapsulation \n",
        "### (1) Getter\n",
        "### (2) setter"
      ]
    },
    {
      "cell_type": "code",
      "execution_count": null,
      "metadata": {
        "colab": {
          "base_uri": "https://localhost:8080/"
        },
        "id": "7zvMtdEkOBVM",
        "outputId": "6d79796a-5032-4d6f-d36a-de1ac5ad03bd"
      },
      "outputs": [
        {
          "name": "stdout",
          "output_type": "stream",
          "text": [
            "Testing\n"
          ]
        }
      ],
      "source": [
        "class student:\n",
        "  def __init__(self):          # (privet variable = ese directly use nhi kr sakte jab constroter hota h vha kr sakte h)\n",
        "    self.__name=\" \"\n",
        "  def getname(self):\n",
        "    return self.__name\n",
        "  def setname(self,name):\n",
        "    self.__name=name\n",
        "\n",
        "obj=student()\n",
        "obj.setname(\"Testing\")\n",
        "name=obj.getname()\n",
        "print(name)"
      ]
    },
    {
      "cell_type": "markdown",
      "metadata": {
        "id": "rKHUuyqGkEYH"
      },
      "source": [
        "## Encapsulation:-jab ap apne methord or variable ko privat bnana chahte ho  ,(privet mean ap obj ke throo use nhi kr sakte)"
      ]
    },
    {
      "cell_type": "code",
      "execution_count": null,
      "metadata": {
        "colab": {
          "base_uri": "https://localhost:8080/",
          "height": 200
        },
        "id": "96OOG8OEiqxp",
        "outputId": "ca635ddd-7d49-449c-a8fa-5941fab466f8"
      },
      "outputs": [
        {
          "ename": "AttributeError",
          "evalue": "ignored",
          "output_type": "error",
          "traceback": [
            "\u001b[0;31m---------------------------------------------------------------------------\u001b[0m",
            "\u001b[0;31mAttributeError\u001b[0m                            Traceback (most recent call last)",
            "\u001b[0;32m<ipython-input-27-470ed295be49>\u001b[0m in \u001b[0;36m<module>\u001b[0;34m\u001b[0m\n\u001b[1;32m      3\u001b[0m \u001b[0;34m\u001b[0m\u001b[0m\n\u001b[1;32m      4\u001b[0m \u001b[0mobj\u001b[0m\u001b[0;34m=\u001b[0m\u001b[0mstudent\u001b[0m\u001b[0;34m(\u001b[0m\u001b[0;34m)\u001b[0m\u001b[0;34m\u001b[0m\u001b[0;34m\u001b[0m\u001b[0m\n\u001b[0;32m----> 5\u001b[0;31m \u001b[0mprint\u001b[0m\u001b[0;34m(\u001b[0m\u001b[0mobj\u001b[0m\u001b[0;34m.\u001b[0m\u001b[0m__name\u001b[0m\u001b[0;34m)\u001b[0m\u001b[0;34m\u001b[0m\u001b[0;34m\u001b[0m\u001b[0m\n\u001b[0m",
            "\u001b[0;31mAttributeError\u001b[0m: 'student' object has no attribute '__name'"
          ]
        }
      ],
      "source": [
        "class student:        #(it's showing error because we can not call it from (obj))\n",
        "  __name=\"Ravi\"        #( hm __name variable ko direct bhar use nhi kr sakte eske liye constrocter use karna padega)\n",
        "\n",
        "obj=student()\n",
        "print(obj.__name)"
      ]
    },
    {
      "cell_type": "code",
      "execution_count": null,
      "metadata": {
        "colab": {
          "base_uri": "https://localhost:8080/"
        },
        "id": "6-8GdK5A65ny",
        "outputId": "70dc3b92-e911-4d9d-eb59-45a9186aa8c2"
      },
      "outputs": [
        {
          "name": "stdout",
          "output_type": "stream",
          "text": [
            "Ravi\n"
          ]
        }
      ],
      "source": [
        "class student:\n",
        "  name=\"Ravi\"\n",
        "obj=student()\n",
        "print(obj.name)"
      ]
    },
    {
      "cell_type": "code",
      "execution_count": null,
      "metadata": {
        "colab": {
          "base_uri": "https://localhost:8080/",
          "height": 200
        },
        "id": "57qSljZI7lZe",
        "outputId": "e626b4da-bfbc-412e-ba19-15617feec03c"
      },
      "outputs": [
        {
          "ename": "AttributeError",
          "evalue": "ignored",
          "output_type": "error",
          "traceback": [
            "\u001b[0;31m---------------------------------------------------------------------------\u001b[0m",
            "\u001b[0;31mAttributeError\u001b[0m                            Traceback (most recent call last)",
            "\u001b[0;32m<ipython-input-29-ea996a4fa9a1>\u001b[0m in \u001b[0;36m<module>\u001b[0;34m\u001b[0m\n\u001b[1;32m      6\u001b[0m     \u001b[0mprint\u001b[0m\u001b[0;34m(\u001b[0m\u001b[0;34m\"welcome to hyderabad\"\u001b[0m\u001b[0;34m)\u001b[0m\u001b[0;34m\u001b[0m\u001b[0;34m\u001b[0m\u001b[0m\n\u001b[1;32m      7\u001b[0m \u001b[0mobj\u001b[0m\u001b[0;34m=\u001b[0m\u001b[0mstudent\u001b[0m\u001b[0;34m(\u001b[0m\u001b[0;34m)\u001b[0m\u001b[0;34m\u001b[0m\u001b[0;34m\u001b[0m\u001b[0m\n\u001b[0;32m----> 8\u001b[0;31m \u001b[0mobj\u001b[0m\u001b[0;34m.\u001b[0m\u001b[0m__displayinfo\u001b[0m\u001b[0;34m(\u001b[0m\u001b[0;34m)\u001b[0m\u001b[0;34m\u001b[0m\u001b[0;34m\u001b[0m\u001b[0m\n\u001b[0m",
            "\u001b[0;31mAttributeError\u001b[0m: 'student' object has no attribute '__displayinfo'"
          ]
        }
      ],
      "source": [
        "class student:           #( it's showing error because __displayinfo is a privat function/methord)\n",
        "  __name=\"Nikku\"     \n",
        "  def __name__(self):\n",
        "    print(self.__name)\n",
        "  def __displayinfo(self):\n",
        "    print(\"welcome to hyderabad\")\n",
        "obj=student()\n",
        "obj.__displayinfo()"
      ]
    },
    {
      "cell_type": "code",
      "execution_count": null,
      "metadata": {
        "colab": {
          "background_save": true,
          "base_uri": "https://localhost:8080/",
          "height": 235
        },
        "id": "OledqG7T8xaU",
        "outputId": "bf21f0ee-4b9c-4dc2-8e57-0a305ac3de4c"
      },
      "outputs": [
        {
          "ename": "NameError",
          "evalue": "ignored",
          "output_type": "error",
          "traceback": [
            "\u001b[0;31m---------------------------------------------------------------------------\u001b[0m",
            "\u001b[0;31mNameError\u001b[0m                                 Traceback (most recent call last)",
            "\u001b[0;32m<ipython-input-35-d5b22a8cb5a9>\u001b[0m in \u001b[0;36m<module>\u001b[0;34m\u001b[0m\n\u001b[1;32m      7\u001b[0m     \u001b[0mprint\u001b[0m\u001b[0;34m(\u001b[0m\u001b[0;34m\"welcome to bhopal\"\u001b[0m\u001b[0;34m)\u001b[0m\u001b[0;34m\u001b[0m\u001b[0;34m\u001b[0m\u001b[0m\n\u001b[1;32m      8\u001b[0m \u001b[0mobj\u001b[0m\u001b[0;34m=\u001b[0m\u001b[0mstudent\u001b[0m\u001b[0;34m(\u001b[0m\u001b[0;34m)\u001b[0m\u001b[0;34m\u001b[0m\u001b[0;34m\u001b[0m\u001b[0m\n\u001b[0;32m----> 9\u001b[0;31m \u001b[0m__diplayinfo\u001b[0m\u001b[0;34m(\u001b[0m\u001b[0;34m)\u001b[0m\u001b[0;34m\u001b[0m\u001b[0;34m\u001b[0m\u001b[0m\n\u001b[0m\u001b[1;32m     10\u001b[0m \u001b[0;34m\u001b[0m\u001b[0m\n\u001b[1;32m     11\u001b[0m \u001b[0;34m\u001b[0m\u001b[0m\n",
            "\u001b[0;31mNameError\u001b[0m: name '__diplayinfo' is not defined"
          ]
        }
      ],
      "source": [
        "class student:\n",
        "  __name=\"NIKKU\"\n",
        "  def __int__(self):\n",
        "    print(self.__name)\n",
        "    self.__displayinfo()\n",
        "  def __displayinfo(self):\n",
        "    print(\"welcome to bhopal\")\n",
        "obj=student()\n",
        "obj.__displayinfo()\n",
        "\n",
        "\n"
      ]
    },
    {
      "cell_type": "markdown",
      "metadata": {
        "id": "dlOSXN9T-svB"
      },
      "source": [
        "## polymorphism:-means same function name but different data type \n",
        "(1) Overloding\n",
        "(2) Overriding"
      ]
    },
    {
      "cell_type": "code",
      "execution_count": null,
      "metadata": {
        "id": "hJmHIeW190Qy",
        "colab": {
          "base_uri": "https://localhost:8080/"
        },
        "outputId": "77ddce07-14db-497b-c0e5-5915650cc01c"
      },
      "outputs": [
        {
          "output_type": "stream",
          "name": "stdout",
          "text": [
            "5\n",
            "7\n"
          ]
        }
      ],
      "source": [
        "l=[10,20,30,40,50]\n",
        "print(len(l))\n",
        "s=\"welcome\"\n",
        "print(len(s))"
      ]
    },
    {
      "cell_type": "markdown",
      "source": [
        "###(1) Overloding:-"
      ],
      "metadata": {
        "id": "2r8Njhy8U-9y"
      }
    },
    {
      "cell_type": "code",
      "source": [
        "class ws:\n",
        "  def displayinfo(self,name=''):\n",
        "    print(\"welcome to wscubetech\"+name)\n",
        "obj=ws()\n",
        "obj.displayinfo()\n"
      ],
      "metadata": {
        "colab": {
          "base_uri": "https://localhost:8080/"
        },
        "id": "5ZEuwpWyUfMM",
        "outputId": "a2717906-1f2d-4139-9b91-29319550fbc9"
      },
      "execution_count": null,
      "outputs": [
        {
          "output_type": "stream",
          "name": "stdout",
          "text": [
            "welcome to wscubetech\n"
          ]
        }
      ]
    },
    {
      "cell_type": "code",
      "source": [
        "class ws:\n",
        "  def displayinfo(self,name=''):\n",
        "    print(\"welcome to wscubetech\"+name)\n",
        "obj=ws()\n",
        "obj.displayinfo()\n",
        "obj.displayinfo('python')\n"
      ],
      "metadata": {
        "colab": {
          "base_uri": "https://localhost:8080/"
        },
        "id": "5dn5fLFQVa_L",
        "outputId": "023c2807-f9e5-4914-e50f-fee4b34d5bd9"
      },
      "execution_count": null,
      "outputs": [
        {
          "output_type": "stream",
          "name": "stdout",
          "text": [
            "welcome to wscubetech\n",
            "welcome to wscubetechpython\n"
          ]
        }
      ]
    },
    {
      "cell_type": "code",
      "source": [],
      "metadata": {
        "id": "Bx3psMl9WkPc"
      },
      "execution_count": null,
      "outputs": []
    }
  ],
  "metadata": {
    "colab": {
      "provenance": [],
      "authorship_tag": "ABX9TyM1a7Uxs3YPsYsv+q3MW0J9",
      "include_colab_link": true
    },
    "kernelspec": {
      "display_name": "Python 3",
      "name": "python3"
    },
    "language_info": {
      "name": "python"
    }
  },
  "nbformat": 4,
  "nbformat_minor": 0
}